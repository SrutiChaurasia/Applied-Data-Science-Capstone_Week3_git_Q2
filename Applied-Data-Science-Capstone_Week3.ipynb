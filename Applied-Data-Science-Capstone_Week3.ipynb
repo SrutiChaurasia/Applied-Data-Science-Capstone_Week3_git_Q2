{
    "cells": [
        {
            "metadata": {},
            "cell_type": "code",
            "source": "# Import Libraries\n\nimport requests\nfrom bs4 import BeautifulSoup\nimport pandas as pd",
            "execution_count": 1,
            "outputs": []
        },
        {
            "metadata": {},
            "cell_type": "code",
            "source": "# Successfully accessed the website data,\n\nurl = 'https://en.wikipedia.org/wiki/List_of_postal_codes_of_Canada:_M'\nresponse = requests.get(url)\nresponse",
            "execution_count": 2,
            "outputs": [
                {
                    "output_type": "execute_result",
                    "execution_count": 2,
                    "data": {
                        "text/plain": "<Response [200]>"
                    },
                    "metadata": {}
                }
            ]
        },
        {
            "metadata": {},
            "cell_type": "code",
            "source": "# Get the targeted data from web\n\nsoup = BeautifulSoup(response.text, 'xml')\ntable1= soup.find('table',{'class':'wikitable sortable'}) # after finding the path of tergeted data \"table.wikitable.sortable.jquery-tablesorter\"\nTableRows = table1.find_all('tr')  #for finding the all tag \"tr\" in data table\n",
            "execution_count": 3,
            "outputs": []
        },
        {
            "metadata": {},
            "cell_type": "code",
            "source": "# Putting data in data variable \n\ndata = []\nfor i in TableRows:\n    data.append([t.text.strip() for t in i.find_all('td')]) # \"td\" is a tag within tag \"tr\". \"td consists values of each cell\"\n",
            "execution_count": 4,
            "outputs": []
        },
        {
            "metadata": {},
            "cell_type": "code",
            "source": "# Creating the data frame with clean data\n\ndf = pd.DataFrame(data, columns=['PostalCode', 'Borough', 'Neighbourhood'])\ndf = df[~df['Borough'].isnull()]  # to filter out null rows\ndf['Borough'].unique()\nlist = ['Not assigned']\n\n\ndf = df[~df.Borough.isin(list)]  # to filter out \"Not assigned\" rows from Borough column\n#df= df.sort_index()  # Sorting using index column\ndf\n",
            "execution_count": null,
            "outputs": []
        },
        {
            "metadata": {},
            "cell_type": "code",
            "source": "# Shape of the data\ndf.shape",
            "execution_count": null,
            "outputs": []
        },
        {
            "metadata": {},
            "cell_type": "markdown",
            "source": "## Cordinates of Postal Codes"
        },
        {
            "metadata": {},
            "cell_type": "code",
            "source": "# Fetching CSV file of cordinates,\n\nimport types\nimport pandas as pd\nfrom botocore.client import Config\nimport ibm_boto3\n\ndef __iter__(self): return 0\n\n# @hidden_cell\n# The following code accesses a file in your IBM Cloud Object Storage. It includes your credentials.\n# You might want to remove those credentials before you share the notebook.\nclient_772ac7c34bef41b9a409e79221382e46 = ibm_boto3.client(service_name='s3',\n    ibm_api_key_id='Jk4DgmE4Ybmp3o_SPrnk7iRjkuOGBXzl9UcJ-WnvpCRe',\n    ibm_auth_endpoint=\"https://iam.cloud.ibm.com/oidc/token\",\n    config=Config(signature_version='oauth'),\n    endpoint_url='https://s3.eu-geo.objectstorage.service.networklayer.com')\n\nbody = client_772ac7c34bef41b9a409e79221382e46.get_object(Bucket='applieddatasciencecapstoneweek3-donotdelete-pr-k3qwurjii4bxnk',Key='Geospatial_Coordinates.csv')['Body']\n# add missing __iter__ method, so pandas accepts body as file-like object\nif not hasattr(body, \"__iter__\"): body.__iter__ = types.MethodType( __iter__, body )\n\ndf_data_1 = pd.read_csv(body)\ndf_data_1.head()\n",
            "execution_count": null,
            "outputs": []
        },
        {
            "metadata": {},
            "cell_type": "code",
            "source": "#Rename the postal Code column as \"PostalCode\"\ndf_data_1=df_data_1.rename(columns={\"Postal Code\":\"PostalCode\"})\ndf_data_1",
            "execution_count": null,
            "outputs": []
        },
        {
            "metadata": {},
            "cell_type": "code",
            "source": "# Merge two different data frame \"df\" and \"df_data_1\" using inner join method\nfinal_df= pd.merge(df,df_data_1,how=\"inner\",on='PostalCode')\nfinal_df",
            "execution_count": null,
            "outputs": []
        }
    ],
    "metadata": {
        "kernelspec": {
            "name": "python3",
            "display_name": "Python 3.7",
            "language": "python"
        },
        "language_info": {
            "name": "python",
            "version": "3.7.9",
            "mimetype": "text/x-python",
            "codemirror_mode": {
                "name": "ipython",
                "version": 3
            },
            "pygments_lexer": "ipython3",
            "nbconvert_exporter": "python",
            "file_extension": ".py"
        }
    },
    "nbformat": 4,
    "nbformat_minor": 1
}